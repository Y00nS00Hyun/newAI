{
 "cells": [
  {
   "cell_type": "markdown",
   "id": "e0505fbc",
   "metadata": {},
   "source": [
    "# 코드 실행 가이드\n",
    "- 아래 모든 코드는 !(느낌표)를 제외하고 터미널에 입력하여도 그대로 실행할 수 있습니다.\n",
    "```bash\n",
    "python -m utils.split_data -h\n",
    "```"
   ]
  },
  {
   "cell_type": "markdown",
   "id": "87812377",
   "metadata": {},
   "source": [
    "## train 데이터셋 분할\n",
    "- 원본 데이터셋을 학습에 활용할 수 있도록 train / validation으로 나눕니다.\n",
    "- 필요에 따라 해당 스크립트를 사용하지 않고도 직접 train.csv, validation.csv를 만들어 사용할 수 있습니다."
   ]
  },
  {
   "cell_type": "code",
   "execution_count": null,
   "id": "4c8c15b3",
   "metadata": {},
   "outputs": [],
   "source": [
    "# 도움말 확인\n",
    "!python utils/split_data.py --help"
   ]
  },
  {
   "cell_type": "code",
   "execution_count": null,
   "id": "4643ab17",
   "metadata": {},
   "outputs": [],
   "source": [
    "# 데이터셋 분할 실행 (모든 데이터셋 사용, 70:30 split)\n",
    "!python utils/split_data.py --datasets all --train-ratio 0.8"
   ]
  },
  {
   "cell_type": "markdown",
   "id": "2b6dce42",
   "metadata": {},
   "source": [
    "## 모델 훈련\n",
    "- 분할한 데이터셋으로 모델을 훈련합니다.\n",
    "- `model_definitions/`에 모델을 구현하고, 등록한 후 사용할 수 있습니다.\n",
    "- 기본 baseline은 모든 학생의 제출을 목표로 합니다.\n",
    "- 터미널에서 직접 실행 시 다음과 같이 입력하세요.\n",
    "```bash\n",
    "python -m train --model bilstm --config configs/bilstm.yaml --device cuda\n",
    "```"
   ]
  },
  {
   "cell_type": "code",
   "execution_count": null,
   "id": "8edef3aa",
   "metadata": {},
   "outputs": [],
   "source": [
    "# 모델 학습 실행\n",
    "model_name = \"bilstm\"\n",
    "config_path = \"configs/bilstm.yaml\"\n",
    "device = \"cuda\"  # 또는 \"cpu\"\n",
    "\n",
    "# 학습 실행\n",
    "!python train.py --model {model_name} --config {config_path} --device {device}"
   ]
  },
  {
   "cell_type": "code",
   "execution_count": null,
   "id": "d5cb573f",
   "metadata": {},
   "outputs": [],
   "source": [
    "# 생성된 모델 파일 확인\n",
    "import os\n",
    "from pathlib import Path\n",
    "\n",
    "models_dir = Path(\"models\")\n",
    "if models_dir.exists():\n",
    "    model_files = list(models_dir.glob(\"*.pt\"))\n",
    "    print(f\"생성된 모델 파일:\")\n",
    "    for f in sorted(model_files):\n",
    "        size_mb = f.stat().st_size / (1024 * 1024)\n",
    "        print(f\"  - {f.name}: {size_mb:.2f} MB\")\n",
    "else:\n",
    "    print(\"models 디렉토리가 없습니다.\")\n"
   ]
  },
  {
   "cell_type": "markdown",
   "id": "f38b3002",
   "metadata": {},
   "source": [
    "## 4. API 서버 실행\n",
    "\n",
    "학습 완료 후 API 서버를 실행하여 모델을 테스트할 수 있습니다.\n",
    "\n",
    "### 별도 터미널에서 실행:\n",
    "```bash\n",
    "# 방법 1: uvicorn 직접 실행\n",
    "uvicorn app:app --host 0.0.0.0 --port 8000\n",
    "\n",
    "# 방법 2: Python으로 실행\n",
    "python app.py\n",
    "```\n",
    "\n",
    "### API 엔드포인트:\n",
    "- `POST /reload_model`: 모델 리로드 (학습 후 반드시 실행)\n",
    "- `POST /validate`: 검증 데이터셋으로 성능 평가\n",
    "- `POST /infer`: 단일 텍스트 예측\n",
    "- `POST /infer_csv`: CSV 파일 일괄 예측\n",
    "\n",
    "### Swagger UI 접속:\n",
    "서버 실행 후 브라우저에서 접속:\n",
    "- Swagger UI: `http://localhost:8000/docs`\n",
    "- ReDoc: `http://localhost:8000/redoc`\n",
    "\n",
    "**⚠️ 주의:** API Key 필요 (`X-API-Key` 헤더에 `ULmLAYYhKeeP9J1c` 입력)\n"
   ]
  },
  {
   "cell_type": "code",
   "execution_count": null,
   "id": "71e24c91",
   "metadata": {},
   "outputs": [],
   "source": [
    "## 3. 학습 결과 확인\n",
    "\n",
    "학습이 완료되면 다음 파일들이 생성됩니다:\n",
    "- `models/bilstm_best.pt`: 각 epoch별 최고 성능 모델\n",
    "- `models/best.pt`: 최종 제출용 모델 (자동 복사됨)\n"
   ]
  }
 ],
 "metadata": {
  "kernelspec": {
   "display_name": "hackathon_api",
   "language": "python",
   "name": "python3"
  },
  "language_info": {
   "codemirror_mode": {
    "name": "ipython",
    "version": 3
   },
   "file_extension": ".py",
   "mimetype": "text/x-python",
   "name": "python",
   "nbconvert_exporter": "python",
   "pygments_lexer": "ipython3",
   "version": "3.10.19"
  }
 },
 "nbformat": 4,
 "nbformat_minor": 5
}
